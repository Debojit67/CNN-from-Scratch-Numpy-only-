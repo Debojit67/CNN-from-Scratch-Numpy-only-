{
  "nbformat": 4,
  "nbformat_minor": 0,
  "metadata": {
    "colab": {
      "name": "CNN Numpy",
      "provenance": [],
      "collapsed_sections": [
        "vx6tYsRU3Ydx",
        "JdymurguK-T5"
      ]
    },
    "kernelspec": {
      "name": "python3",
      "display_name": "Python 3"
    }
  },
  "cells": [
    {
      "cell_type": "code",
      "metadata": {
        "id": "ng3WN2YU2qPF",
        "colab_type": "code",
        "colab": {
          "base_uri": "https://localhost:8080/",
          "height": 156
        },
        "outputId": "d1e8cb6b-c657-48c5-f4ac-be1af708416f"
      },
      "source": [
        "from google.colab import drive\n",
        "drive.mount('/gdrive')\n",
        "%cd /gdrive/My Drive/Dataset/'dogs-vs-cats'\n",
        "!ls \n"
      ],
      "execution_count": null,
      "outputs": [
        {
          "output_type": "stream",
          "text": [
            "Go to this URL in a browser: https://accounts.google.com/o/oauth2/auth?client_id=947318989803-6bn6qk8qdgf4n4g3pfee6491hc0brc4i.apps.googleusercontent.com&redirect_uri=urn%3aietf%3awg%3aoauth%3a2.0%3aoob&scope=email%20https%3a%2f%2fwww.googleapis.com%2fauth%2fdocs.test%20https%3a%2f%2fwww.googleapis.com%2fauth%2fdrive%20https%3a%2f%2fwww.googleapis.com%2fauth%2fdrive.photos.readonly%20https%3a%2f%2fwww.googleapis.com%2fauth%2fpeopleapi.readonly&response_type=code\n",
            "\n",
            "Enter your authorization code:\n",
            "··········\n",
            "Mounted at /gdrive\n",
            "/gdrive/My Drive/Dataset/dogs-vs-cats\n",
            "sampleSubmission.csv  test1  test1.zip\ttrain  train.zip\n"
          ],
          "name": "stdout"
        }
      ]
    },
    {
      "cell_type": "code",
      "metadata": {
        "id": "2ft0uX5V4Ed3",
        "colab_type": "code",
        "colab": {}
      },
      "source": [
        "import numpy as np\n",
        "import pandas as pd\n",
        "import os\n",
        "import cv2\n",
        "import random\n"
      ],
      "execution_count": null,
      "outputs": []
    },
    {
      "cell_type": "markdown",
      "metadata": {
        "id": "dLSRyEg220lS",
        "colab_type": "text"
      },
      "source": [
        "# Helper Function\n"
      ]
    },
    {
      "cell_type": "code",
      "metadata": {
        "id": "fvAzIust2LXo",
        "colab_type": "code",
        "colab": {}
      },
      "source": [
        "def read_data(input,test=False):\n",
        "  input=input.reset_index(drop=True)\n",
        "  new_size=256;images=[];category=[]\n",
        "  %cd /gdrive/My Drive/Dataset/'dogs-vs-cats'/test1\n",
        "\n",
        "  if not test:\n",
        "    %cd /gdrive/My Drive/Dataset/'dogs-vs-cats'/train\n",
        "    for i in range(input.shape[0]):\n",
        "      temp=cv2.imread(input.loc[i,'filenames'])\n",
        "      images.append(cv2.resize(temp,(new_size,new_size)))\n",
        "      category.append(input.loc[i,'category'])\n",
        "  for i in range(input.shape[0]):\n",
        "    temp=cv2.imread(input.loc[i,'filenames'])\n",
        "    images.append(cv2.resize(temp,(new_size,new_size)))\n",
        "  return images,category"
      ],
      "execution_count": 250,
      "outputs": []
    },
    {
      "cell_type": "code",
      "metadata": {
        "id": "jLeYTeuj24GB",
        "colab_type": "code",
        "colab": {}
      },
      "source": [
        "import numpy as np\n",
        "class Conv2D:\n",
        "  def __init__(self, num_filters,kernel_size):\n",
        "      self.num_filters = num_filters\n",
        "      self.kernel_size=kernel_size\n",
        "  \n",
        "  def get_filters(self,input_shape):\n",
        "      return np.random.randn(self.num_filters, self.kernel_size, self.kernel_size,input_shape[2]) / self.kernel_size*self.kernel_size\n",
        "\n",
        "  def get_subset(self, image):\n",
        "    image_list=[];x,y,_=image.shape\n",
        "    for i in range(x-self.kernel_size+1):\n",
        "      for j in range(y-self.kernel_size+1):\n",
        "        image_list.append(image[i:(i + self.kernel_size), j:(j + self.kernel_size),:])\n",
        "    return image_list\n",
        "\n",
        "  def forward(self, input):\n",
        "    if len(input.shape)<3:\n",
        "      input=input.reshape(input.shape[0],input.shape[1],1)   \n",
        "    \n",
        "    x,y,z=input.shape\n",
        "    self.last_input = input\n",
        "    output = np.zeros((x-self.kernel_size+1,y-self.kernel_size+1, self.num_filters))\n",
        "    \n",
        "    image_list=self.get_subset(input)\n",
        "    self.filters=self.get_filters(input.shape)\n",
        "    div=y-self.kernel_size+1\n",
        "\n",
        "    for f in range(self.num_filters):\n",
        "      i=0;j=0\n",
        "      for idx,img in enumerate(image_list):\n",
        "        if idx%div==0:\n",
        "          i+=1;j=0;\n",
        "        output[i-1, j, f] = np.sum(img * self.filters[f])\n",
        "        j+=1\n",
        "    # For relu activation, uncomment the next line\n",
        "    #output[output<0]=0\n",
        "    return output\n",
        "    \n",
        "  def backprop(self, d_L_d_out, learn_rate):\n",
        "    z=0\n",
        "    d_L_d_filters = np.zeros(self.filters.shape)\n",
        "    output=np.zeros(self.last_input.shape)\n",
        "    \n",
        "    for f in range(d_L_d_out.shape[2]):\n",
        "      for i in range(d_L_d_out.shape[0]):\n",
        "        for j in range(d_L_d_out.shape[1]):\n",
        "          for ii in range(self.kernel_size):\n",
        "            for jj in range(self.kernel_size):\n",
        "              for ff in range(z):\n",
        "                output[i+ii,j+jj,ff]+=self.filters[f,ii,jj,ff]*d_L_d_out[i,j,f]\n",
        "                d_L_d_filters[f,ii,jj,ff]+=self.last_input[i+ii,j+jj,ff]*d_L_d_out[i,j,f]\n",
        "   \n",
        "    self.filters -= learn_rate * d_L_d_filters\n",
        "    # For relu activation, uncomment the next line\n",
        "#    output[output<0]=0\n",
        "    return output"
      ],
      "execution_count": null,
      "outputs": []
    },
    {
      "cell_type": "code",
      "metadata": {
        "id": "1FxVS0vp3Chr",
        "colab_type": "code",
        "colab": {}
      },
      "source": [
        "class MaxPool:\n",
        "   def __init__(self,poolsize):\n",
        "     self.poolsize=poolsize\n",
        "   def get_subset(self, image):\n",
        "    x,y,num_channels=image.shape;   image_list=[]\n",
        "    for i in range(x//self.poolsize):\n",
        "      for j in range(y//self.poolsize):\n",
        "        image_list.append(image[(i * self.poolsize):(i * self.poolsize + self.poolsize), (j * self.poolsize):(j * self.poolsize + self.poolsize)])\n",
        "    return image_list\n",
        "\n",
        "   def forward(self, input):\n",
        "     x, y,num_channels = input.shape\n",
        "     self.last_input=input\n",
        "     output = np.zeros((x//self.poolsize,y//self.poolsize, num_channels))\n",
        "     image_list=self.get_subset(input)\n",
        "     i=0;j=0;div=y//self.poolsize\n",
        "     for idx,img in enumerate(image_list):\n",
        "       if idx%div==0:\n",
        "         i+=1;j=0;\n",
        "       output[i-1, j] = np.amax(img, axis=(0, 1))\n",
        "       j+=1\n",
        "     output= np.array(output)\n",
        "     return output\n",
        "     \n",
        "   def backprop(self,dL_dout):\n",
        "     d_L_d_input = np.zeros((dL_dout.shape[0]*self.poolsize,dL_dout.shape[1]*self.poolsize,dL_dout.shape[2]*self.poolsize))\n",
        "     x, y,num_channels = self.last_input.shape\n",
        "     image_list=self.get_subset(self.last_input)\n",
        "     i=0;j=0;div=y//self.poolsize\n",
        "     for idx,img in enumerate(image_list):\n",
        "       if idx%div==0:\n",
        "         i+=1;j=0;\n",
        "       \n",
        "       h, w, f = img.shape\n",
        "       amax = np.amax(img, axis=(0, 1))\n",
        "       for i2 in range(h):\n",
        "         for j2 in range(w):\n",
        "           for f2 in range(f):\n",
        "             if img[i2, j2, f2] == amax[f2]:\n",
        "               d_L_d_input[(i-1) * self.poolsize + i2, j * self.poolsize + j2, f2] = dL_dout[i-1, j, f2]\n",
        "       j+=1\n",
        "\n",
        "     return d_L_d_input"
      ],
      "execution_count": null,
      "outputs": []
    },
    {
      "cell_type": "code",
      "metadata": {
        "id": "V_FA6bOm3GuN",
        "colab_type": "code",
        "colab": {}
      },
      "source": [
        "class Dense:\n",
        "  # A standard fully-connected layer with softmax activation.\n",
        "\n",
        "  def __init__(self, nodes,activation):\n",
        "    self.activation=activation\n",
        "    self.nodes=nodes\n",
        "    \n",
        "  def get_weights(self,input):\n",
        "    if len(input.shape)==1 or type(input)==int:\n",
        "      input_size=len(input)\n",
        "    else:\n",
        "      input_size=input.shape[0]*input.shape[1]*input.shape[2]\n",
        "    weights = np.random.randn(input_size, self.nodes) / input_size\n",
        "    biases = np.zeros(self.nodes)\n",
        "    return weights,biases\n",
        "\n",
        "  def forward(self, input):\n",
        "    input=np.array(input)\n",
        "    self.last_input_shape = input.shape\n",
        "    self.weights,self.biases=self.get_weights(input)\n",
        "    input = input.flatten()\n",
        "    self.last_input = input\n",
        "    input_len, nodes = self.weights.shape\n",
        "    totals = np.dot(input, self.weights) + self.biases\n",
        "    self.last_totals = totals\n",
        "    output=0\n",
        "    if self.activation == 'Softmax':\n",
        "      exp = np.exp(totals)\n",
        "      output=exp / np.sum(exp, axis=0)\n",
        "    elif self.activation == 'Relu':\n",
        "      output=[max(0.0,val) for val in totals]\n",
        "    elif self.activation == 'Sigmoid':\n",
        "      output=sigmoid(totals)\n",
        "    return output\n",
        "\n",
        "  def backprop(self, d_L_d_out, learn_rate):\n",
        "        if self.activation=='Sigmoid':\n",
        "          d_out_d_t=sigmoid(self.last_totals,derivative=True)\n",
        "        elif self.activation=='Relu':\n",
        "          d_out_d_t=Relu(self.last_totals,derivative=True)\n",
        "        elif self.activation=='Softmax':\n",
        "          d_out_d_t=Softmax(self.last_totals,d_L_d_out,derivative=True)\n",
        "          # Gradients of totals against weights/biases/input\n",
        "        d_t_d_w = self.last_input\n",
        "        d_t_d_b = 1\n",
        "        d_t_d_inputs = self.weights\n",
        "\n",
        "      # Gradients of loss against totals\n",
        "        d_L_d_t = d_L_d_out * d_out_d_t\n",
        "\n",
        "      # Gradients of loss against weights/biases/input\n",
        "        d_L_d_w =np.matmul(d_t_d_w[np.newaxis].T , d_L_d_t[np.newaxis])\n",
        "        d_L_d_b = d_L_d_t * d_t_d_b\n",
        "        d_L_d_inputs = np.matmul(d_t_d_inputs , d_L_d_t)\n",
        "\n",
        "      # Update weights / biases\n",
        "        self.weights -= learn_rate * d_L_d_w\n",
        "        self.biases -= learn_rate * d_L_d_b\n",
        "        return d_L_d_inputs.reshape(self.last_input_shape)\n"
      ],
      "execution_count": null,
      "outputs": []
    },
    {
      "cell_type": "code",
      "metadata": {
        "id": "KMe05tVo3J8X",
        "colab_type": "code",
        "colab": {}
      },
      "source": [
        "class Dropout:\n",
        "  def __init__(self,prob):\n",
        "    self.prob=prob  \n",
        "  def forward(self,X):\n",
        "    keep_prob = 1 - self.prob\n",
        "    mask = np.random.uniform(0, 1.0, X.shape) < keep_prob\n",
        "    if keep_prob > 0.0:\n",
        "        scale = (1/keep_prob)\n",
        "    else:\n",
        "        scale = 0.0\n",
        "    return mask * X * scale\n",
        "  def backprop(self,X):\n",
        "    return self.forward(X)"
      ],
      "execution_count": null,
      "outputs": []
    },
    {
      "cell_type": "code",
      "metadata": {
        "id": "5_HWPtoK3QE2",
        "colab_type": "code",
        "colab": {
          "base_uri": "https://localhost:8080/",
          "height": 34
        },
        "outputId": "66ef05d1-a103-4e4e-e3ed-bfa035778bc1"
      },
      "source": [
        "def CrossEntropy(yHat, y):\n",
        "  epsilon=1e-15\n",
        "  if y == 1:\n",
        "      return -np.log(epsilon+yHat)\n",
        "  else:\n",
        "      return -np.log(1 - yHat+epsilon)\n",
        "   \n",
        "def Relu(x,derivative=False):\n",
        "  if derivative:\n",
        "    x[x<=0]=0\n",
        "    x[x>0]=1\n",
        "    return x\n",
        "  x[x<0]=0\n",
        "\n",
        "  return x\n",
        "\n",
        "def sigmoid(x, derivative=False):\n",
        "   if derivative:\n",
        "      return (np.exp(-x))/((np.exp(-x)+1)**2)\n",
        "   return 1/(1 + np.exp(-x))\n",
        "\n",
        "def Softmax(x,d_L_d_out, derivative=False):\n",
        "  if derivative:\n",
        "    for i, gradient in enumerate(d_L_d_out):\n",
        "      if gradient==0:\n",
        "          continue\n",
        "      t_exp = np.exp(x)\n",
        "      S = np.sum(t_exp)\n",
        "      d_out_d_t = -t_exp[i] * t_exp / (S ** 2)\n",
        "      d_out_d_t[i] = t_exp[i] * (S - t_exp[i]) / (S ** 2)\n",
        "    return d_out_d_t  \n",
        "  exps = np.exp(x - x.max())\n",
        "  return exps / np.sum(exps, axis=0)\n",
        "\n",
        "Relu(np.array([0,1,0.5,-1,-5,5]),True)\n"
      ],
      "execution_count": null,
      "outputs": [
        {
          "output_type": "execute_result",
          "data": {
            "text/plain": [
              "array([0., 1., 1., 0., 0., 1.])"
            ]
          },
          "metadata": {
            "tags": []
          },
          "execution_count": 130
        }
      ]
    },
    {
      "cell_type": "code",
      "metadata": {
        "id": "txEUJFpN129_",
        "colab_type": "code",
        "colab": {}
      },
      "source": [
        "\n",
        "class Sequential():\n",
        "  def __init__(self,input_shape,lr=0.005):\n",
        "    self.input_shape=input_shape\n",
        "    self.lr=lr\n",
        "    self.layers=[]\n",
        "    self.epsilon=1e-15\n",
        "\n",
        "  def addlayers(self,layers):\n",
        "    self.layers.append(layers)\n",
        "\n",
        "  def printlayers(self):\n",
        "    for layers in (self.layers):\n",
        "      print(layers)\n",
        "\n",
        "  def forward(self,image):\n",
        "    out=image/255   \n",
        "    for layers in self.layers:\n",
        "      out = layers.forward(out)\n",
        "    return out\n",
        "\n",
        "  def backward(self,gradient):\n",
        "    for layers in reversed(self.layers):\n",
        "      if \"Dropout\" in str(type(layers)) or \"MaxPool\" in str(type(layers)):\n",
        "        gradient=layers.backprop(gradient)\n",
        "      else:\n",
        "        gradient=layers.backprop(gradient,self.lr)\n",
        " \n",
        "  def train(self,image,label):\n",
        "    out=self.forward(image)\n",
        "    if getattr(self.layers[-1],'activation')=='Sigmoid':\n",
        "      acc = 1 if np.round(out) == label else 0\n",
        "      loss = CrossEntropy(out,label)\n",
        "      gradient=label-out\n",
        "    elif getattr(self.layers[-1],'activation')=='Softmax':\n",
        "      acc = 1 if np.argmax(out) == label else 0\n",
        "      gradient=np.zeros(getattr(self.layers[-1],'nodes'))\n",
        "      gradient[label]=-1/(out+self.epsilon)\n",
        "      loss=-np.log(out[label])\n",
        "    self.backward(gradient)\n",
        "    #print(out,label)\n",
        "    return acc,loss\n",
        "\n",
        "  def fit(self,image,labels,epochs):\n",
        "    print(\"-\"*50,\"Training started\",\"-\"*50)\n",
        "    c = list(zip(image, labels))\n",
        "    random.shuffle(c)\n",
        "    a,b=zip(*c)\n",
        "    #for full training, use the next line\n",
        "    #train_data=zip(a,b)\n",
        "    train_data=zip(a[:20],b[:20])\n",
        "    net_acc=0;net_loss=0\n",
        "    for epoch in range(epochs):\n",
        "      print('--- Epoch %d ---' % (epoch + 1))\n",
        "      loss = 0;num_correct = 0\n",
        "      for i, (im, label) in enumerate(train_data):\n",
        "        if i > 0 and i % 50 == 0:\n",
        "          print('[Step %d] 50 samples trained: Average Loss %.3f || Accuracy: %d%%' %(i + 1, loss / 50, num_correct*2))\n",
        "          loss = 0\n",
        "          num_correct = 0\n",
        "        #print(label)  \n",
        "        acc,l=self.train(im,label)\n",
        "        loss += l;net_loss+=l\n",
        "        num_correct += acc; net_acc+=acc\n",
        "      print(\"completed epoch %d || Average Training loss : %0.3f || Training Accuracy : %0.2f%%\"%(epoch+1,net_loss/i,net_acc/i*100))\n",
        "  \n",
        "  def predict(self,image):\n",
        "      output=[]\n",
        "      for im in image:\n",
        "        if getattr(self.layers[-1],'activation')=='Sigmoid':\n",
        "          output.append(np.round(self.forward(im)))\n",
        "        elif getattr(self.layers[-1],'activation')=='Softmax':\n",
        "          output.append(np.argmax(self.forward(im)))\n",
        "      return output\n",
        "    \n",
        "  \n"
      ],
      "execution_count": null,
      "outputs": []
    },
    {
      "cell_type": "code",
      "metadata": {
        "id": "TGcof55Z3rpl",
        "colab_type": "code",
        "colab": {}
      },
      "source": [
        "def confusion_matrix(yHat, y):\n",
        "  tp=sum([1 for i,val in enumerate(yHat) if val==y[i] and val==1])\n",
        "  tn=sum([1 for i,val in enumerate(yHat) if val==y[i] and val==0])\n",
        "  fn=sum([1 for i,val in enumerate(yHat) if val!=y[i] and val==0])\n",
        "  fp=sum([1 for i,val in enumerate(yHat) if val!=y[i] and val==1])\n",
        "  return tp,tn,fp,fn\n",
        " \n",
        "def accuracy(yHat,y):\n",
        "  out=[1 for i,val in enumerate(yHat) if val==y[i]] \n",
        "  return sum(out)/len(y)\n",
        "def recall(yHat,y):\n",
        "  tp,tn,fp,fn=confusion_matrix(yHat, y)\n",
        "  return tp/(tp+fn)\n",
        "def precision(yHat,y):\n",
        "  tp,tn,fp,fn=confusion_matrix(yHat, y)\n",
        "  return tp/(tp+fp)\n",
        "def F1_Score(yHat,y):\n",
        "  return 2*precision(yHat,y)*recall(yHat,y)/(precision(yHat,y)+recall(yHat,y))"
      ],
      "execution_count": null,
      "outputs": []
    },
    {
      "cell_type": "markdown",
      "metadata": {
        "id": "vx6tYsRU3Ydx",
        "colab_type": "text"
      },
      "source": [
        "# Read Data"
      ]
    },
    {
      "cell_type": "code",
      "metadata": {
        "id": "xo8CVzkz3bR9",
        "colab_type": "code",
        "colab": {
          "base_uri": "https://localhost:8080/",
          "height": 51
        },
        "outputId": "ea59be55-88d6-4caa-e252-05dcb21f08b1"
      },
      "source": [
        "\n",
        "%cd /gdrive/My Drive/Dataset/'dogs-vs-cats'/train\n",
        "\n",
        "filenames = os.listdir(\"./\")\n",
        "categories = [];list_filenames=[]\n",
        "for filename in filenames:\n",
        "      list_filenames.append(filename)\n",
        "      category = filename.split('.')[0]\n",
        "      if category == 'dog':\n",
        "        categories.append(1)\n",
        "      else:\n",
        "        categories.append(0)\n",
        "    \n",
        "    \n",
        "train_data=pd.DataFrame({'filenames':list_filenames,'category':categories})\n",
        "#######################################################\n",
        "%cd /gdrive/My Drive/Dataset/'dogs-vs-cats'/test1\n",
        "\n",
        "filenames = os.listdir(\"./\")\n",
        "categories = [];list_filenames=[]\n",
        "for filename in filenames:\n",
        "      list_filenames.append(filename)\n",
        "      category = filename.split('.')[0]\n",
        "      if category == 'dog':\n",
        "        categories.append(1)\n",
        "      else:\n",
        "        categories.append(0)\n",
        "    \n",
        "    \n",
        "test_data=pd.DataFrame({'filenames':list_filenames,'category':categories})\n"
      ],
      "execution_count": 246,
      "outputs": [
        {
          "output_type": "stream",
          "text": [
            "/gdrive/My Drive/Dataset/dogs-vs-cats/train\n",
            "/gdrive/My Drive/Dataset/dogs-vs-cats/test1\n"
          ],
          "name": "stdout"
        }
      ]
    },
    {
      "cell_type": "code",
      "metadata": {
        "id": "wUTZvMpX3W4J",
        "colab_type": "code",
        "colab": {
          "base_uri": "https://localhost:8080/",
          "height": 282
        },
        "outputId": "6dd87884-ed60-4596-f55c-709eaa437886"
      },
      "source": [
        "#create validation folds\n",
        "train_data['folds']=0\n",
        "cats=train_data[train_data['category']==0].reset_index(drop=True)\n",
        "dogs=train_data[train_data['category']==1].reset_index(drop=True)\n",
        "total_length=train_data.shape[0]\n",
        "start_idx=0;inc=total_length/10;num_folds=5\n",
        "new_df=pd.DataFrame()\n",
        "for i in range(num_folds):\n",
        "  cats.loc[np.arange(start_idx,start_idx+inc),'folds']=i\n",
        "  dogs.loc[np.arange(start_idx,start_idx+inc),'folds']=i\n",
        "  start_idx+=inc\n",
        "train_data=cats.append(dogs).reset_index(drop=True)\n",
        "train_data.folds.hist()"
      ],
      "execution_count": 247,
      "outputs": [
        {
          "output_type": "execute_result",
          "data": {
            "text/plain": [
              "<matplotlib.axes._subplots.AxesSubplot at 0x7fd42bdbf9e8>"
            ]
          },
          "metadata": {
            "tags": []
          },
          "execution_count": 247
        },
        {
          "output_type": "display_data",
          "data": {
            "image/png": "[encoded data removed]",
            "text/plain": [
              "<Figure size 432x288 with 1 Axes>"
            ]
          },
          "metadata": {
            "tags": [],
            "needs_background": "light"
          }
        }
      ]
    },
    {
      "cell_type": "markdown",
      "metadata": {
        "id": "JdymurguK-T5",
        "colab_type": "text"
      },
      "source": [
        "# Define model+training"
      ]
    },
    {
      "cell_type": "code",
      "metadata": {
        "id": "UNPH1qDyKuHO",
        "colab_type": "code",
        "colab": {}
      },
      "source": [
        "def create_model(input_shape):\n",
        "  model=Sequential(input_shape);num_filters=8;poolsize=2\n",
        "  model.addlayers(Conv2D(num_filters=24,kernel_size=5))\n",
        "  model.addlayers(MaxPool(poolsize=2))  \n",
        "  model.addlayers(Conv2D(num_filters=32,kernel_size=5))\n",
        "  model.addlayers(MaxPool(poolsize=2))\n",
        "  model.addlayers(Dropout(prob=0.5))\n",
        "  model.addlayers(Dense(nodes=1000,activation='Relu'))\n",
        "  model.addlayers(Dense(nodes=1,activation='Sigmoid'))\n",
        "  return model"
      ],
      "execution_count": null,
      "outputs": []
    },
    {
      "cell_type": "code",
      "metadata": {
        "id": "BefyBcPTr8t-",
        "colab_type": "code",
        "colab": {}
      },
      "source": [
        "num_folds=5\n",
        "test_out=np.zeros(test_data.shape[0])\n",
        "test_images,_=read_data(test_data,True);\n",
        "for i in range(num_folds):\n",
        "  print('-'*75,\"Fold %d\"%(i+1),'-'*75)\n",
        "  train_images,train_labels=read_data(train_data[train_data.folds!=i])\n",
        "  val_images,val_labels=read_data(train_data[train_data.folds==i])\n",
        "  model=create_model(train_images[0].shape)\n",
        "  model.fit(image=train_images,labels=train_labels,epochs=1)\n",
        "  preds=model.predict(val_images)\n",
        "  preds=[int(val) for val in preds]\n",
        "  print(\"validation: accuracy : %0.2f%% || precision : %0.2f || recall : %0.2f || F1-Score : %0.4f\"%(accuracy(preds,val_labels)*100,precision(preds,val_labels),recall(preds,val_labels),F1_Score(preds,val_labels)))\n",
        "  #predicting testdata\n",
        "  preds=model.predict(test_images)\n",
        "  preds=[int(val) for val in preds]\n",
        "  test_out+=preds/num_folds\n",
        "  \n"
      ],
      "execution_count": null,
      "outputs": []
    },
    {
      "cell_type": "code",
      "metadata": {
        "id": "UfdNER-bmzaZ",
        "colab_type": "code",
        "colab": {}
      },
      "source": [
        "test_data['category']=test_out"
      ],
      "execution_count": null,
      "outputs": []
    }
  ]
}